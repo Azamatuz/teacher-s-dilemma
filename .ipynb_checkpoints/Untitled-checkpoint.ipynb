{
 "cells": [
  {
   "cell_type": "code",
   "execution_count": 2,
   "metadata": {},
   "outputs": [],
   "source": [
    "import pandas as pd\n",
    "import numpy as pn"
   ]
  },
  {
   "cell_type": "code",
   "execution_count": 3,
   "metadata": {},
   "outputs": [],
   "source": [
    "teachers = ['coop', 'defect', 'tit1', 'tit0', 'saspic']"
   ]
  },
  {
   "cell_type": "code",
   "execution_count": 104,
   "metadata": {
    "scrolled": true
   },
   "outputs": [
    {
     "ename": "IndexError",
     "evalue": "list index out of range",
     "output_type": "error",
     "traceback": [
      "\u001b[1;31m---------------------------------------------------------------------------\u001b[0m",
      "\u001b[1;31mIndexError\u001b[0m                                Traceback (most recent call last)",
      "\u001b[1;32m<ipython-input-104-fb3e6fa9ebf7>\u001b[0m in \u001b[0;36m<module>\u001b[1;34m\u001b[0m\n\u001b[0;32m     33\u001b[0m         \u001b[1;32mif\u001b[0m \u001b[0mt1\u001b[0m\u001b[1;33m==\u001b[0m\u001b[1;34m'defect'\u001b[0m \u001b[1;32mand\u001b[0m \u001b[0mt2\u001b[0m\u001b[1;33m==\u001b[0m\u001b[1;34m'tit1'\u001b[0m\u001b[1;33m:\u001b[0m\u001b[1;33m\u001b[0m\u001b[1;33m\u001b[0m\u001b[0m\n\u001b[0;32m     34\u001b[0m             \u001b[1;32mif\u001b[0m \u001b[0mindex\u001b[0m \u001b[1;33m!=\u001b[0m \u001b[1;36m0\u001b[0m\u001b[1;33m:\u001b[0m\u001b[1;33m\u001b[0m\u001b[1;33m\u001b[0m\u001b[0m\n\u001b[1;32m---> 35\u001b[1;33m                 \u001b[1;32mif\u001b[0m \u001b[0mresult_list\u001b[0m\u001b[1;33m[\u001b[0m\u001b[0mindex\u001b[0m\u001b[1;33m-\u001b[0m\u001b[1;36m1\u001b[0m\u001b[1;33m]\u001b[0m\u001b[1;33m[\u001b[0m\u001b[0mindex2\u001b[0m\u001b[1;33m]\u001b[0m\u001b[1;33m[\u001b[0m\u001b[1;36m0\u001b[0m\u001b[1;33m]\u001b[0m \u001b[1;33m==\u001b[0m \u001b[1;34m'D'\u001b[0m\u001b[1;33m:\u001b[0m\u001b[1;33m\u001b[0m\u001b[1;33m\u001b[0m\u001b[0m\n\u001b[0m\u001b[0;32m     36\u001b[0m                     \u001b[0mtemp_list\u001b[0m\u001b[1;33m.\u001b[0m\u001b[0mappend\u001b[0m\u001b[1;33m(\u001b[0m\u001b[1;34m'D, D'\u001b[0m\u001b[1;33m)\u001b[0m\u001b[1;33m\u001b[0m\u001b[1;33m\u001b[0m\u001b[0m\n\u001b[0;32m     37\u001b[0m                 \u001b[1;32melse\u001b[0m\u001b[1;33m:\u001b[0m\u001b[1;33m\u001b[0m\u001b[1;33m\u001b[0m\u001b[0m\n",
      "\u001b[1;31mIndexError\u001b[0m: list index out of range"
     ]
    }
   ],
   "source": [
    "result_list = []\n",
    "for index, t1 in enumerate(teachers):\n",
    "    temp_list=[]\n",
    "    for index2, t2 in enumerate(teachers):\n",
    "\n",
    "        if t1=='coop' and t2=='coop':\n",
    "            temp_list.append('C, C')\n",
    "        if t1=='coop' and t2=='defect':\n",
    "            temp_list.append('C, D')\n",
    "        if t1=='coop' and t2=='tit1':\n",
    "            if index != 0:\n",
    "                if result_list[index-1][index2][0] == 'D':\n",
    "                    temp_list.append('D, D')\n",
    "                else:\n",
    "                    temp_list.append('D, C')\n",
    "        if t1=='coop' and t2=='tit0':\n",
    "            if index != 0:\n",
    "                if result_list[index-1][index2][0] == 'D':\n",
    "                    temp_list.append('D, D')\n",
    "                else:\n",
    "                    temp_list.append('D, C')\n",
    "        if t1=='coop' and t2=='saspic':\n",
    "            if index >= 1:\n",
    "                if result_list[index-1][index2][0] == 'D' and result_list[index-2][index2][0] == 'D':\n",
    "                    temp_list.append('D, D')\n",
    "                else:\n",
    "                    temp_list.append('D, C')\n",
    "        \n",
    "        if t1=='defect' and t2=='coop':\n",
    "            temp_list.append('D, C')\n",
    "        if t1=='defect' and t2=='defect':\n",
    "            temp_list.append('D, D')\n",
    "        if t1=='defect' and t2=='tit1':\n",
    "            if index != 0:\n",
    "                if result_list[index-1][index2][0] == 'D':\n",
    "                    temp_list.append('D, D')\n",
    "                else:\n",
    "                    temp_list.append('D, C')\n",
    "        if t1=='defect' and t2=='tit0':\n",
    "            if index != 0:\n",
    "                if result_list[index-1][index2][0] == 'D':\n",
    "                    temp_list.append('D, D')\n",
    "                else:\n",
    "                    temp_list.append('D, C')\n",
    "        if t1=='defect' and t2=='saspic':\n",
    "            if index >= 1:\n",
    "                if result_list[index-1][index2][0] == 'D' and result_list[index-2][index2][0] == 'D':\n",
    "                    temp_list.append('D, D')\n",
    "                else:\n",
    "                    temp_list.append('D, C')\n",
    "                    \n",
    "        if len(temp_list)==0:\n",
    "            if t1=='tit1' and t2=='coop':\n",
    "                temp_list.append('C, C')\n",
    "            if t1=='tit1' and t2=='defect':\n",
    "                temp_list.append('C, D')\n",
    "            if t1=='tit1' and t2=='tit1':\n",
    "                if index != 0:\n",
    "                    if result_list[index-1][index2][0] == 'D':\n",
    "                        temp_list.append('C, D')\n",
    "                    else:\n",
    "                        temp_list.append('C, C')\n",
    "            if t1=='tit1' and t2=='tit0':\n",
    "                if index != 0:\n",
    "                    if result_list[index-1][index2][0] == 'D':\n",
    "                        temp_list.append('C, D')\n",
    "                    else:\n",
    "                        temp_list.append('C, C')\n",
    "            if t1=='tit1' and t2=='saspic':\n",
    "                if index >= 1:\n",
    "                    if result_list[index-1][index2][0] == 'D' and result_list[index-2][index2][0] == 'D':\n",
    "                        temp_list.append('C, D')\n",
    "                    else:\n",
    "                        temp_list.append('C, C')\n",
    "        else:\n",
    "            if temp_list[index2-1][1] == 'D':\n",
    "                if t1=='tit1' and t2=='coop':\n",
    "                    temp_list.append('D, C')\n",
    "                if t1=='tit1' and t2=='defect':\n",
    "                    temp_list.append('D, D')\n",
    "                if t1=='tit1' and t2=='tit1':\n",
    "                    if index != 0:\n",
    "                        if result_list[index-1][index2][0] == 'D':\n",
    "                            temp_list.append('D, D')\n",
    "                        else:\n",
    "                            temp_list.append('D, C')\n",
    "                if t1=='tit1' and t2=='tit0':\n",
    "                    if index != 0:\n",
    "                        if result_list[index-1][index2][0] == 'D':\n",
    "                            temp_list.append('D, D')\n",
    "                        else:\n",
    "                            temp_list.append('D, C')\n",
    "                if t1=='tit1' and t2=='saspic':\n",
    "                    if index >= 1:\n",
    "                        if result_list[index-1][index2][0] == 'D' and result_list[index-2][index2][0] == 'D':\n",
    "                            temp_list.append('D, D')\n",
    "                        else:\n",
    "                            temp_list.append('D, C')\n",
    "\n",
    "        # print(result_list[index])    \n",
    "    result_list.append(temp_list)\n",
    "        \n"
   ]
  },
  {
   "cell_type": "code",
   "execution_count": 103,
   "metadata": {},
   "outputs": [
    {
     "data": {
      "text/plain": [
       "[['C, C', 'C, D', 'C, C', 'C, D', 'C, D'],\n",
       " ['D, C', 'D, D', 'D, C', 'D, C', 'D, C'],\n",
       " [],\n",
       " [],\n",
       " []]"
      ]
     },
     "execution_count": 103,
     "metadata": {},
     "output_type": "execute_result"
    }
   ],
   "source": [
    "result_list"
   ]
  },
  {
   "cell_type": "code",
   "execution_count": 97,
   "metadata": {},
   "outputs": [
    {
     "name": "stdout",
     "output_type": "stream",
     "text": [
      "C\n"
     ]
    }
   ],
   "source": [
    "print(result_list[1-1][2][0])"
   ]
  },
  {
   "cell_type": "code",
   "execution_count": 6,
   "metadata": {},
   "outputs": [],
   "source": [
    "df = pd.DataFrame(columns=teachers, index=teachers)"
   ]
  },
  {
   "cell_type": "code",
   "execution_count": 7,
   "metadata": {},
   "outputs": [
    {
     "data": {
      "text/html": [
       "<div>\n",
       "<style scoped>\n",
       "    .dataframe tbody tr th:only-of-type {\n",
       "        vertical-align: middle;\n",
       "    }\n",
       "\n",
       "    .dataframe tbody tr th {\n",
       "        vertical-align: top;\n",
       "    }\n",
       "\n",
       "    .dataframe thead th {\n",
       "        text-align: right;\n",
       "    }\n",
       "</style>\n",
       "<table border=\"1\" class=\"dataframe\">\n",
       "  <thead>\n",
       "    <tr style=\"text-align: right;\">\n",
       "      <th></th>\n",
       "      <th>coop</th>\n",
       "      <th>defect</th>\n",
       "      <th>tit1</th>\n",
       "      <th>tit0</th>\n",
       "      <th>saspic</th>\n",
       "    </tr>\n",
       "  </thead>\n",
       "  <tbody>\n",
       "    <tr>\n",
       "      <th>coop</th>\n",
       "      <td>NaN</td>\n",
       "      <td>NaN</td>\n",
       "      <td>NaN</td>\n",
       "      <td>NaN</td>\n",
       "      <td>NaN</td>\n",
       "    </tr>\n",
       "    <tr>\n",
       "      <th>defect</th>\n",
       "      <td>NaN</td>\n",
       "      <td>NaN</td>\n",
       "      <td>NaN</td>\n",
       "      <td>NaN</td>\n",
       "      <td>NaN</td>\n",
       "    </tr>\n",
       "    <tr>\n",
       "      <th>tit1</th>\n",
       "      <td>NaN</td>\n",
       "      <td>NaN</td>\n",
       "      <td>NaN</td>\n",
       "      <td>NaN</td>\n",
       "      <td>NaN</td>\n",
       "    </tr>\n",
       "    <tr>\n",
       "      <th>tit0</th>\n",
       "      <td>NaN</td>\n",
       "      <td>NaN</td>\n",
       "      <td>NaN</td>\n",
       "      <td>NaN</td>\n",
       "      <td>NaN</td>\n",
       "    </tr>\n",
       "    <tr>\n",
       "      <th>saspic</th>\n",
       "      <td>NaN</td>\n",
       "      <td>NaN</td>\n",
       "      <td>NaN</td>\n",
       "      <td>NaN</td>\n",
       "      <td>NaN</td>\n",
       "    </tr>\n",
       "  </tbody>\n",
       "</table>\n",
       "</div>"
      ],
      "text/plain": [
       "       coop defect tit1 tit0 saspic\n",
       "coop    NaN    NaN  NaN  NaN    NaN\n",
       "defect  NaN    NaN  NaN  NaN    NaN\n",
       "tit1    NaN    NaN  NaN  NaN    NaN\n",
       "tit0    NaN    NaN  NaN  NaN    NaN\n",
       "saspic  NaN    NaN  NaN  NaN    NaN"
      ]
     },
     "execution_count": 7,
     "metadata": {},
     "output_type": "execute_result"
    }
   ],
   "source": [
    "df"
   ]
  },
  {
   "cell_type": "code",
   "execution_count": 38,
   "metadata": {},
   "outputs": [
    {
     "name": "stdout",
     "output_type": "stream",
     "text": [
      "coop nan coop\n",
      "defect nan defect\n",
      "tit1 nan tit1\n",
      "tit0 nan tit0\n",
      "saspic nan saspic\n"
     ]
    }
   ],
   "source": [
    "for index, row in df.iterrows():\n",
    "    print(index, df.loc[str(index)][0], row.name)"
   ]
  },
  {
   "cell_type": "code",
   "execution_count": 39,
   "metadata": {},
   "outputs": [
    {
     "data": {
      "text/plain": [
       "nan"
      ]
     },
     "execution_count": 39,
     "metadata": {},
     "output_type": "execute_result"
    }
   ],
   "source": [
    "df.loc['coop']['coop']"
   ]
  },
  {
   "cell_type": "code",
   "execution_count": 60,
   "metadata": {
    "scrolled": true
   },
   "outputs": [
    {
     "data": {
      "text/html": [
       "<div>\n",
       "<style scoped>\n",
       "    .dataframe tbody tr th:only-of-type {\n",
       "        vertical-align: middle;\n",
       "    }\n",
       "\n",
       "    .dataframe tbody tr th {\n",
       "        vertical-align: top;\n",
       "    }\n",
       "\n",
       "    .dataframe thead th {\n",
       "        text-align: right;\n",
       "    }\n",
       "</style>\n",
       "<table border=\"1\" class=\"dataframe\">\n",
       "  <thead>\n",
       "    <tr style=\"text-align: right;\">\n",
       "      <th></th>\n",
       "      <th>coop</th>\n",
       "      <th>defect</th>\n",
       "      <th>tit1</th>\n",
       "      <th>tit0</th>\n",
       "      <th>saspic</th>\n",
       "    </tr>\n",
       "  </thead>\n",
       "  <tbody>\n",
       "    <tr>\n",
       "      <th>coop</th>\n",
       "      <td>DC</td>\n",
       "      <td>DD</td>\n",
       "      <td>DC</td>\n",
       "      <td>DD</td>\n",
       "      <td>DD</td>\n",
       "    </tr>\n",
       "    <tr>\n",
       "      <th>defect</th>\n",
       "      <td>NaN</td>\n",
       "      <td>NaN</td>\n",
       "      <td>NaN</td>\n",
       "      <td>NaN</td>\n",
       "      <td>NaN</td>\n",
       "    </tr>\n",
       "    <tr>\n",
       "      <th>tit1</th>\n",
       "      <td>NaN</td>\n",
       "      <td>NaN</td>\n",
       "      <td>NaN</td>\n",
       "      <td>NaN</td>\n",
       "      <td>NaN</td>\n",
       "    </tr>\n",
       "    <tr>\n",
       "      <th>tit0</th>\n",
       "      <td>NaN</td>\n",
       "      <td>NaN</td>\n",
       "      <td>NaN</td>\n",
       "      <td>NaN</td>\n",
       "      <td>NaN</td>\n",
       "    </tr>\n",
       "    <tr>\n",
       "      <th>saspic</th>\n",
       "      <td>NaN</td>\n",
       "      <td>NaN</td>\n",
       "      <td>NaN</td>\n",
       "      <td>NaN</td>\n",
       "      <td>NaN</td>\n",
       "    </tr>\n",
       "  </tbody>\n",
       "</table>\n",
       "</div>"
      ],
      "text/plain": [
       "       coop defect tit1 tit0 saspic\n",
       "coop     DC     DD   DC   DD     DD\n",
       "defect  NaN    NaN  NaN  NaN    NaN\n",
       "tit1    NaN    NaN  NaN  NaN    NaN\n",
       "tit0    NaN    NaN  NaN  NaN    NaN\n",
       "saspic  NaN    NaN  NaN  NaN    NaN"
      ]
     },
     "execution_count": 60,
     "metadata": {},
     "output_type": "execute_result"
    }
   ],
   "source": [
    "for index1, row in df.iterrows():\n",
    "    for index2, row in df.iterrows():\n",
    "        \n",
    "        if index1=='coop' and row.name=='coop':\n",
    "            df.loc[str(index)][str(row.name)] = 'CC'\n",
    "        if index1=='coop' and row.name=='defect':\n",
    "            df.loc[str(index)][str(row.name)] = 'CD'\n",
    "        if index1=='coop' and row.name=='tit1':\n",
    "            df.loc[str(index)][str(row.name)] = 'CC'\n",
    "        if index1=='coop' and row.name=='tit0':\n",
    "            df.loc[str(index)][str(row.name)] = 'CD'\n",
    "        if index1=='coop' and row.name=='saspic':\n",
    "            df.loc[str(index)][str(row.name)] = 'CD'\n",
    "            \n",
    "        if index1=='defect' and row.name=='coop':\n",
    "            df.loc[str(index)][str(row.name)] = 'DC'\n",
    "        if index1=='defect' and row.name=='defect':\n",
    "            df.loc[str(index)][str(row.name)] = 'DD'\n",
    "        if index1=='defect' and row.name=='tit1':\n",
    "            df.loc[str(index)][str(row.name)] = 'DC'\n",
    "        if index1=='defect' and row.name=='tit0':\n",
    "            df.loc[str(index)][str(row.name)] = 'DD'\n",
    "        if index1=='defect' and row.name=='saspic':\n",
    "            df.loc[str(index)][str(row.name)] = 'DD'\n",
    "\n",
    "df"
   ]
  },
  {
   "cell_type": "code",
   "execution_count": 58,
   "metadata": {},
   "outputs": [
    {
     "data": {
      "text/html": [
       "<div>\n",
       "<style scoped>\n",
       "    .dataframe tbody tr th:only-of-type {\n",
       "        vertical-align: middle;\n",
       "    }\n",
       "\n",
       "    .dataframe tbody tr th {\n",
       "        vertical-align: top;\n",
       "    }\n",
       "\n",
       "    .dataframe thead th {\n",
       "        text-align: right;\n",
       "    }\n",
       "</style>\n",
       "<table border=\"1\" class=\"dataframe\">\n",
       "  <thead>\n",
       "    <tr style=\"text-align: right;\">\n",
       "      <th></th>\n",
       "      <th>coop</th>\n",
       "      <th>defect</th>\n",
       "      <th>tit1</th>\n",
       "      <th>tit0</th>\n",
       "      <th>saspic</th>\n",
       "    </tr>\n",
       "  </thead>\n",
       "  <tbody>\n",
       "    <tr>\n",
       "      <th>coop</th>\n",
       "      <td>CC</td>\n",
       "      <td>CD</td>\n",
       "      <td>CC</td>\n",
       "      <td>CD</td>\n",
       "      <td>CD</td>\n",
       "    </tr>\n",
       "    <tr>\n",
       "      <th>defect</th>\n",
       "      <td>NaN</td>\n",
       "      <td>NaN</td>\n",
       "      <td>NaN</td>\n",
       "      <td>NaN</td>\n",
       "      <td>NaN</td>\n",
       "    </tr>\n",
       "    <tr>\n",
       "      <th>tit1</th>\n",
       "      <td>NaN</td>\n",
       "      <td>NaN</td>\n",
       "      <td>NaN</td>\n",
       "      <td>NaN</td>\n",
       "      <td>NaN</td>\n",
       "    </tr>\n",
       "    <tr>\n",
       "      <th>tit0</th>\n",
       "      <td>NaN</td>\n",
       "      <td>NaN</td>\n",
       "      <td>NaN</td>\n",
       "      <td>NaN</td>\n",
       "      <td>NaN</td>\n",
       "    </tr>\n",
       "    <tr>\n",
       "      <th>saspic</th>\n",
       "      <td>NaN</td>\n",
       "      <td>NaN</td>\n",
       "      <td>NaN</td>\n",
       "      <td>NaN</td>\n",
       "      <td>NaN</td>\n",
       "    </tr>\n",
       "  </tbody>\n",
       "</table>\n",
       "</div>"
      ],
      "text/plain": [
       "       coop defect tit1 tit0 saspic\n",
       "coop     CC     CD   CC   CD     CD\n",
       "defect  NaN    NaN  NaN  NaN    NaN\n",
       "tit1    NaN    NaN  NaN  NaN    NaN\n",
       "tit0    NaN    NaN  NaN  NaN    NaN\n",
       "saspic  NaN    NaN  NaN  NaN    NaN"
      ]
     },
     "execution_count": 58,
     "metadata": {},
     "output_type": "execute_result"
    }
   ],
   "source": [
    "df"
   ]
  },
  {
   "cell_type": "code",
   "execution_count": 56,
   "metadata": {},
   "outputs": [
    {
     "name": "stdout",
     "output_type": "stream",
     "text": [
      "index coop\n",
      "row coop\n",
      "index coop\n",
      "row defect\n",
      "index coop\n",
      "row tit1\n",
      "index coop\n",
      "row tit0\n",
      "index coop\n",
      "row saspic\n",
      "index defect\n",
      "row coop\n",
      "index defect\n",
      "row defect\n",
      "index defect\n",
      "row tit1\n",
      "index defect\n",
      "row tit0\n",
      "index defect\n",
      "row saspic\n",
      "index tit1\n",
      "row coop\n",
      "index tit1\n",
      "row defect\n",
      "index tit1\n",
      "row tit1\n",
      "index tit1\n",
      "row tit0\n",
      "index tit1\n",
      "row saspic\n",
      "index tit0\n",
      "row coop\n",
      "index tit0\n",
      "row defect\n",
      "index tit0\n",
      "row tit1\n",
      "index tit0\n",
      "row tit0\n",
      "index tit0\n",
      "row saspic\n",
      "index saspic\n",
      "row coop\n",
      "index saspic\n",
      "row defect\n",
      "index saspic\n",
      "row tit1\n",
      "index saspic\n",
      "row tit0\n",
      "index saspic\n",
      "row saspic\n"
     ]
    }
   ],
   "source": [
    "for index1, row in df.iterrows():\n",
    "    for index2, row in df.iterrows():\n",
    "        print('index', index1)\n",
    "        print('row', row.name)"
   ]
  },
  {
   "cell_type": "code",
   "execution_count": 47,
   "metadata": {},
   "outputs": [
    {
     "data": {
      "text/html": [
       "<div>\n",
       "<style scoped>\n",
       "    .dataframe tbody tr th:only-of-type {\n",
       "        vertical-align: middle;\n",
       "    }\n",
       "\n",
       "    .dataframe tbody tr th {\n",
       "        vertical-align: top;\n",
       "    }\n",
       "\n",
       "    .dataframe thead th {\n",
       "        text-align: right;\n",
       "    }\n",
       "</style>\n",
       "<table border=\"1\" class=\"dataframe\">\n",
       "  <thead>\n",
       "    <tr style=\"text-align: right;\">\n",
       "      <th></th>\n",
       "      <th>coop</th>\n",
       "      <th>defect</th>\n",
       "      <th>tit1</th>\n",
       "      <th>tit0</th>\n",
       "      <th>saspic</th>\n",
       "    </tr>\n",
       "  </thead>\n",
       "  <tbody>\n",
       "    <tr>\n",
       "      <th>coop</th>\n",
       "      <td>CC</td>\n",
       "      <td>NaN</td>\n",
       "      <td>NaN</td>\n",
       "      <td>NaN</td>\n",
       "      <td>NaN</td>\n",
       "    </tr>\n",
       "    <tr>\n",
       "      <th>defect</th>\n",
       "      <td>NaN</td>\n",
       "      <td>NaN</td>\n",
       "      <td>NaN</td>\n",
       "      <td>NaN</td>\n",
       "      <td>NaN</td>\n",
       "    </tr>\n",
       "    <tr>\n",
       "      <th>tit1</th>\n",
       "      <td>NaN</td>\n",
       "      <td>NaN</td>\n",
       "      <td>NaN</td>\n",
       "      <td>NaN</td>\n",
       "      <td>NaN</td>\n",
       "    </tr>\n",
       "    <tr>\n",
       "      <th>tit0</th>\n",
       "      <td>NaN</td>\n",
       "      <td>NaN</td>\n",
       "      <td>NaN</td>\n",
       "      <td>NaN</td>\n",
       "      <td>NaN</td>\n",
       "    </tr>\n",
       "    <tr>\n",
       "      <th>saspic</th>\n",
       "      <td>NaN</td>\n",
       "      <td>NaN</td>\n",
       "      <td>NaN</td>\n",
       "      <td>NaN</td>\n",
       "      <td>NaN</td>\n",
       "    </tr>\n",
       "  </tbody>\n",
       "</table>\n",
       "</div>"
      ],
      "text/plain": [
       "       coop defect tit1 tit0 saspic\n",
       "coop     CC    NaN  NaN  NaN    NaN\n",
       "defect  NaN    NaN  NaN  NaN    NaN\n",
       "tit1    NaN    NaN  NaN  NaN    NaN\n",
       "tit0    NaN    NaN  NaN  NaN    NaN\n",
       "saspic  NaN    NaN  NaN  NaN    NaN"
      ]
     },
     "execution_count": 47,
     "metadata": {},
     "output_type": "execute_result"
    }
   ],
   "source": [
    "df"
   ]
  }
 ],
 "metadata": {
  "kernelspec": {
   "display_name": "Python 3",
   "language": "python",
   "name": "python3"
  },
  "language_info": {
   "codemirror_mode": {
    "name": "ipython",
    "version": 3
   },
   "file_extension": ".py",
   "mimetype": "text/x-python",
   "name": "python",
   "nbconvert_exporter": "python",
   "pygments_lexer": "ipython3",
   "version": "3.7.1"
  }
 },
 "nbformat": 4,
 "nbformat_minor": 2
}
